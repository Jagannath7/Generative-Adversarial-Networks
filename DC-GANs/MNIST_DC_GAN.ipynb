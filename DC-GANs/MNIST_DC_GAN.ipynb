{
 "cells": [
  {
   "cell_type": "code",
   "execution_count": 1,
   "metadata": {},
   "outputs": [
    {
     "name": "stderr",
     "output_type": "stream",
     "text": [
      "Using TensorFlow backend.\n"
     ]
    }
   ],
   "source": [
    "from keras.datasets import mnist\n",
    "from keras.layers import *\n",
    "from keras.layers.advanced_activations import LeakyReLU\n",
    "from keras.models import Sequential,Model\n",
    "from keras.optimizers import Adam\n",
    "\n",
    "import matplotlib.pyplot as plt\n",
    "import math\n",
    "import numpy as np"
   ]
  },
  {
   "cell_type": "code",
   "execution_count": 2,
   "metadata": {},
   "outputs": [],
   "source": [
    "(X_Train,_),(_,_) = mnist.load_data()"
   ]
  },
  {
   "cell_type": "code",
   "execution_count": 3,
   "metadata": {},
   "outputs": [
    {
     "name": "stdout",
     "output_type": "stream",
     "text": [
      "(60000, 28, 28)\n",
      "<class 'numpy.ndarray'>\n",
      "(60000, 28, 28, 1)\n"
     ]
    }
   ],
   "source": [
    "print(X_Train.shape)\n",
    "print(type(X_Train))\n",
    "\n",
    "X_Train = X_Train.reshape((*X_Train.shape,1))\n",
    "print(X_Train.shape)"
   ]
  },
  {
   "cell_type": "code",
   "execution_count": 4,
   "metadata": {},
   "outputs": [
    {
     "name": "stdout",
     "output_type": "stream",
     "text": [
      "-1.0\n",
      "1.0\n"
     ]
    }
   ],
   "source": [
    "# Normalising the data b/w -1 and 1\n",
    "X_Train = (X_Train.astype('float32') - 127.5)/127.5\n",
    "print(np.min(X_Train))\n",
    "print(np.max(X_Train))"
   ]
  },
  {
   "cell_type": "code",
   "execution_count": 6,
   "metadata": {},
   "outputs": [],
   "source": [
    "NUM_EPOCHS = 50\n",
    "BATCH_SIZE = 256\n",
    "NO_OF_BATCHES = math.ceil(X_Train.shape[0]/float(BATCH_SIZE))\n",
    "HALF_BATCH = int(BATCH_SIZE/2)\n",
    "adam = Adam(lr=2e-4,beta_1=0.5)\n",
    "NOISE_DIM = 100"
   ]
  },
  {
   "cell_type": "code",
   "execution_count": null,
   "metadata": {},
   "outputs": [],
   "source": [
    "# Building the generator\n",
    "# Upsampling\n",
    "generator = Sequential()\n",
    "generator.add(Dense(7*7*128,input_shape=(NOISE_DIM,)))\n",
    "generator.add(Reshape((7,7,128)))\n",
    "generator.add(LeakyReLU(0.2))\n",
    "generator.add(BatchNormalization())\n",
    "\n",
    "#Double the Activation Size 14 X 14 X 64\n",
    "generator.add(UpSampling2D())\n",
    "generator.add(Conv2D(64,kernel_size = (5,5), padding='same'))\n",
    "generator.add(LeakyReLU(0.2))\n",
    "generator.add(BatchNormalization())\n",
    "\n",
    "# Double the Activation Size 28 X 28 X 1\n",
    "generator.add(UpSampling2D())\n",
    "generator.add(Conv2D(1,kernel_size=(5,5),padding='same'))"
   ]
  }
 ],
 "metadata": {
  "kernelspec": {
   "display_name": "Python 3",
   "language": "python",
   "name": "python3"
  },
  "language_info": {
   "codemirror_mode": {
    "name": "ipython",
    "version": 3
   },
   "file_extension": ".py",
   "mimetype": "text/x-python",
   "name": "python",
   "nbconvert_exporter": "python",
   "pygments_lexer": "ipython3",
   "version": "3.6.6"
  }
 },
 "nbformat": 4,
 "nbformat_minor": 2
}
